{
 "cells": [
  {
   "cell_type": "code",
   "execution_count": 25,
   "metadata": {},
   "outputs": [],
   "source": [
    "from AlexNet import AlexNet\n",
    "from PlywoodDataset import PlywoodDataset\n",
    "import torch\n",
    "from torch.utils.data import DataLoader\n",
    "import torchvision.transforms as transforms\n",
    "import warnings\n",
    "\n",
    "warnings.filterwarnings(\"ignore\")"
   ]
  },
  {
   "cell_type": "code",
   "execution_count": 26,
   "metadata": {},
   "outputs": [],
   "source": [
    "transform = transforms.Compose(\n",
    "    [\n",
    "        transforms.ToTensor(),\n",
    "        transforms.Resize((227, 227)),\n",
    "        transforms.Normalize(mean=[0.485, 0.456, 0.406], std=[0.229, 0.224, 0.225]),\n",
    "    ]\n",
    ")\n",
    "train_dataset = PlywoodDataset(\"labels.csv\", \"data\", transform=transform)\n",
    "test_dataset = PlywoodDataset(\"test_labels.csv\", \"test_data\", transform=transform)"
   ]
  },
  {
   "cell_type": "code",
   "execution_count": 27,
   "metadata": {},
   "outputs": [],
   "source": [
    "trainloader = DataLoader(\n",
    "    dataset=train_dataset,\n",
    "    batch_size=2,\n",
    "    shuffle=True,\n",
    ")\n",
    "testloader = DataLoader(\n",
    "    dataset=test_dataset,\n",
    "    batch_size=2,\n",
    "    shuffle=True,\n",
    ")\n",
    "loss_function = torch.nn.SmoothL1Loss()"
   ]
  },
  {
   "cell_type": "code",
   "execution_count": 28,
   "metadata": {},
   "outputs": [],
   "source": [
    "NUM_EPOCH = 50"
   ]
  },
  {
   "cell_type": "code",
   "execution_count": 29,
   "metadata": {},
   "outputs": [],
   "source": [
    "def calculate_error(return_values):\n",
    "    true_number = []\n",
    "    predicted_number = []\n",
    "    for data in return_values:\n",
    "        true_number += data[0]\n",
    "        predicted_number += data[1]\n",
    "\n",
    "    error = []\n",
    "    for i in range(len(true_number)):\n",
    "        error.append(abs(true_number[i] - predicted_number[i]) / true_number[i])\n",
    "    error = sum(error) / len(error)\n",
    "    \n",
    "    return error"
   ]
  },
  {
   "cell_type": "code",
   "execution_count": 30,
   "metadata": {},
   "outputs": [
    {
     "name": "stdout",
     "output_type": "stream",
     "text": [
      "Epoch: 0 Train error: 0.19652609784974093\n",
      "Epoch: 1 Train error: 0.2957806386749943\n",
      "Epoch: 2 Train error: 0.2014191806055172\n",
      "Epoch: 3 Train error: 0.21249268774853486\n",
      "Epoch: 4 Train error: 0.20221360564496552\n",
      "Epoch: 5 Train error: 0.18698187479876105\n",
      "Epoch: 6 Train error: 0.17426490876812697\n",
      "Epoch: 7 Train error: 0.1928611934950114\n",
      "Epoch: 8 Train error: 0.2892568469863693\n",
      "Epoch: 9 Train error: 0.21032948912378657\n",
      "Epoch: 10 Train error: 0.2122377341209306\n",
      "Epoch: 11 Train error: 0.17818280490324281\n",
      "Epoch: 12 Train error: 0.184187020623126\n",
      "Epoch: 13 Train error: 0.1872959408874722\n",
      "Epoch: 14 Train error: 0.18756691697456693\n",
      "Epoch: 15 Train error: 0.20542068267660502\n",
      "Epoch: 16 Train error: 0.19365697639821944\n",
      "Epoch: 17 Train error: 0.19833131403681348\n",
      "Epoch: 18 Train error: 0.18312221117389668\n",
      "Epoch: 19 Train error: 0.19618337020041532\n",
      "Epoch: 20 Train error: 0.15718419645046422\n",
      "Epoch: 21 Train error: 0.18333470267247895\n",
      "Epoch: 22 Train error: 0.1894881126102098\n",
      "Epoch: 23 Train error: 0.17078368357992318\n",
      "Epoch: 24 Train error: 0.1739772916514882\n",
      "Epoch: 25 Train error: 0.18333769998731533\n",
      "Epoch: 26 Train error: 0.20011315189812254\n",
      "Epoch: 27 Train error: 0.19061389279132782\n",
      "Epoch: 28 Train error: 0.2532790788587599\n",
      "Epoch: 29 Train error: 0.2588170337236942\n",
      "Epoch: 30 Train error: 0.17397751902108538\n",
      "Epoch: 31 Train error: 0.22221017400589657\n",
      "Epoch: 32 Train error: 0.17948632322270755\n",
      "Epoch: 33 Train error: 0.16880031260192177\n",
      "Epoch: 34 Train error: 0.20604355092085655\n",
      "Epoch: 35 Train error: 0.16909093452340984\n",
      "Epoch: 36 Train error: 0.18708399181572105\n",
      "Epoch: 37 Train error: 0.2769895576297771\n",
      "Epoch: 38 Train error: 0.2252830989932065\n",
      "Epoch: 39 Train error: 0.1824960170628338\n",
      "Epoch: 40 Train error: 0.21844961257541354\n",
      "Epoch: 41 Train error: 0.1876286734089551\n",
      "Epoch: 42 Train error: 0.18164865203821262\n",
      "Epoch: 43 Train error: 0.2112671199334671\n",
      "Epoch: 44 Train error: 0.17022486147598712\n",
      "Epoch: 45 Train error: 0.16833676898063288\n",
      "Epoch: 46 Train error: 0.17854322405144862\n",
      "Epoch: 47 Train error: 0.24149508899410627\n",
      "Epoch: 48 Train error: 0.16514720687473408\n",
      "Epoch: 49 Train error: 0.2778580250452372\n"
     ]
    }
   ],
   "source": [
    "train_errors = []\n",
    "for epoch in range(NUM_EPOCH):\n",
    "    net = AlexNet()\n",
    "    net.load_state_dict(torch.load(f\"alexnet/alexnet_epoch{epoch}.pt\"))\n",
    "    with torch.no_grad():\n",
    "        return_values = []\n",
    "        for i, data in enumerate(trainloader, 0):\n",
    "            inputs, labels = data\n",
    "            outputs = net(inputs)\n",
    "            loss = loss_function(outputs, labels)\n",
    "            return_values.append(\n",
    "                (labels.tolist(), outputs.flatten().tolist(), loss.tolist())\n",
    "            )\n",
    "    train_error = calculate_error(return_values)\n",
    "    train_errors.append(train_error)\n",
    "    print(f'Epoch: {epoch} Train error: {train_error}')\n"
   ]
  },
  {
   "cell_type": "code",
   "execution_count": 31,
   "metadata": {},
   "outputs": [
    {
     "name": "stdout",
     "output_type": "stream",
     "text": [
      "Epoch: 0 Test error: 0.2615332141641031\n",
      "Epoch: 1 Test error: 0.18539689655591496\n",
      "Epoch: 2 Test error: 0.15923618611945659\n",
      "Epoch: 3 Test error: 0.27090975274891904\n",
      "Epoch: 4 Test error: 0.19988974962706704\n",
      "Epoch: 5 Test error: 0.10145564548686792\n",
      "Epoch: 6 Test error: 0.16501692560387168\n",
      "Epoch: 7 Test error: 0.0821945475709825\n",
      "Epoch: 8 Test error: 0.2157630797346154\n",
      "Epoch: 9 Test error: 0.20020395158100324\n",
      "Epoch: 10 Test error: 0.21445789940336565\n",
      "Epoch: 11 Test error: 0.1906525527801329\n",
      "Epoch: 12 Test error: 0.11523401378002042\n",
      "Epoch: 13 Test error: 0.16857276098855586\n",
      "Epoch: 14 Test error: 0.13699647796824652\n",
      "Epoch: 15 Test error: 0.17141156361614765\n",
      "Epoch: 16 Test error: 0.19923589233456152\n",
      "Epoch: 17 Test error: 0.14920893409467575\n",
      "Epoch: 18 Test error: 0.15473980459290448\n",
      "Epoch: 19 Test error: 0.09416947998946919\n",
      "Epoch: 20 Test error: 0.11058086339116091\n",
      "Epoch: 21 Test error: 0.193285566438801\n",
      "Epoch: 22 Test error: 0.12912237564124449\n",
      "Epoch: 23 Test error: 0.15860205947682926\n",
      "Epoch: 24 Test error: 0.11458326124498121\n",
      "Epoch: 25 Test error: 0.15284760575552692\n",
      "Epoch: 26 Test error: 0.1365299261789349\n",
      "Epoch: 27 Test error: 0.12712728200607112\n",
      "Epoch: 28 Test error: 0.17806335470988618\n",
      "Epoch: 29 Test error: 0.2647326048935829\n",
      "Epoch: 30 Test error: 0.10170973896467722\n",
      "Epoch: 31 Test error: 0.10167726760802108\n",
      "Epoch: 32 Test error: 0.16066779665935332\n",
      "Epoch: 33 Test error: 0.17146838512832743\n",
      "Epoch: 34 Test error: 0.20195337619465223\n",
      "Epoch: 35 Test error: 0.14073164099376015\n",
      "Epoch: 36 Test error: 0.13653732875607433\n",
      "Epoch: 37 Test error: 0.13514839719807414\n",
      "Epoch: 38 Test error: 0.1079245759265164\n",
      "Epoch: 39 Test error: 0.13488760206743136\n",
      "Epoch: 40 Test error: 0.09750514360871965\n",
      "Epoch: 41 Test error: 0.11535514471669106\n",
      "Epoch: 42 Test error: 0.13069098409763422\n",
      "Epoch: 43 Test error: 0.1742108655139357\n",
      "Epoch: 44 Test error: 0.11696567926677459\n",
      "Epoch: 45 Test error: 0.1525690338666234\n",
      "Epoch: 46 Test error: 0.14741854821600062\n",
      "Epoch: 47 Test error: 0.2374159097646444\n",
      "Epoch: 48 Test error: 0.11851965436672791\n",
      "Epoch: 49 Test error: 0.3042640942474147\n"
     ]
    }
   ],
   "source": [
    "test_errors = []\n",
    "for epoch in range(NUM_EPOCH):\n",
    "    net = AlexNet()\n",
    "    net.load_state_dict(torch.load(f\"alexnet/alexnet_epoch{epoch}.pt\"))\n",
    "    with torch.no_grad():\n",
    "        return_values = []\n",
    "        for i, data in enumerate(testloader, 0):\n",
    "            inputs, labels = data\n",
    "            outputs = net(inputs)\n",
    "            loss = loss_function(outputs, labels)\n",
    "            return_values.append(\n",
    "                (labels.tolist(), outputs.flatten().tolist(), loss.tolist())\n",
    "            )\n",
    "    test_error = calculate_error(return_values)\n",
    "    test_errors.append(test_error)\n",
    "    print(f'Epoch: {epoch} Test error: {test_error}')\n"
   ]
  }
 ],
 "metadata": {
  "interpreter": {
   "hash": "ac59ebe37160ed0dfa835113d9b8498d9f09ceb179beaac4002f036b9467c963"
  },
  "kernelspec": {
   "display_name": "Python 3.9.4 64-bit",
   "name": "python3"
  },
  "language_info": {
   "codemirror_mode": {
    "name": "ipython",
    "version": 3
   },
   "file_extension": ".py",
   "mimetype": "text/x-python",
   "name": "python",
   "nbconvert_exporter": "python",
   "pygments_lexer": "ipython3",
   "version": "3.9.4"
  },
  "orig_nbformat": 4
 },
 "nbformat": 4,
 "nbformat_minor": 2
}
