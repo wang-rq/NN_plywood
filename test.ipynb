{
 "cells": [
  {
   "cell_type": "code",
   "execution_count": 1,
   "metadata": {},
   "outputs": [],
   "source": [
    "from AlexNet import AlexNet\n",
    "from PlywoodDataset import PlywoodDataset\n",
    "import torch\n",
    "from torch.utils.data import DataLoader\n",
    "import torchvision.transforms as transforms\n",
    "import warnings\n",
    "\n",
    "warnings.filterwarnings(\"ignore\")"
   ]
  },
  {
   "cell_type": "code",
   "execution_count": 2,
   "metadata": {},
   "outputs": [],
   "source": [
    "transform = transforms.Compose(\n",
    "    [\n",
    "        transforms.ToTensor(),\n",
    "        transforms.Resize((227, 227)),\n",
    "        transforms.Normalize(mean=[0.485, 0.456, 0.406], std=[0.229, 0.224, 0.225]),\n",
    "    ]\n",
    ")\n",
    "train_dataset = PlywoodDataset(\"labels.csv\", \"data\", transform=transform)\n",
    "test_dataset = PlywoodDataset(\"test_labels.csv\", \"test_data\", transform=transform)"
   ]
  },
  {
   "cell_type": "code",
   "execution_count": 3,
   "metadata": {},
   "outputs": [],
   "source": [
    "trainloader = DataLoader(\n",
    "    dataset=train_dataset,\n",
    "    batch_size=5,\n",
    "    shuffle=True,\n",
    ")\n",
    "testloader = DataLoader(\n",
    "    dataset=test_dataset,\n",
    "    batch_size=5,\n",
    "    shuffle=True,\n",
    ")\n",
    "loss_function = torch.nn.SmoothL1Loss()"
   ]
  },
  {
   "cell_type": "code",
   "execution_count": 4,
   "metadata": {},
   "outputs": [],
   "source": [
    "NUM_EPOCH = 50"
   ]
  },
  {
   "cell_type": "code",
   "execution_count": 5,
   "metadata": {},
   "outputs": [],
   "source": [
    "def calculate_error(return_values):\n",
    "    true_number = []\n",
    "    predicted_number = []\n",
    "    for data in return_values:\n",
    "        true_number += data[0]\n",
    "        predicted_number += data[1]\n",
    "\n",
    "    error = []\n",
    "    for i in range(len(true_number)):\n",
    "        error.append(abs(true_number[i] - predicted_number[i]) / true_number[i])\n",
    "    error = sum(error) / len(error)\n",
    "    \n",
    "    return error"
   ]
  },
  {
   "cell_type": "code",
   "execution_count": 6,
   "metadata": {},
   "outputs": [
    {
     "name": "stdout",
     "output_type": "stream",
     "text": [
      "Epoch: 0 Train error: 0.20165307797879492\n",
      "Epoch: 1 Train error: 0.31081946136771016\n",
      "Epoch: 2 Train error: 0.19743020612602197\n",
      "Epoch: 3 Train error: 0.21930332662539825\n",
      "Epoch: 4 Train error: 0.2112212318690381\n",
      "Epoch: 5 Train error: 0.18747081375452554\n",
      "Epoch: 6 Train error: 0.17131587775457843\n",
      "Epoch: 7 Train error: 0.21716223501521978\n",
      "Epoch: 8 Train error: 0.27883037390304877\n",
      "Epoch: 9 Train error: 0.20417580178538275\n",
      "Epoch: 10 Train error: 0.21434700681682925\n",
      "Epoch: 11 Train error: 0.1779741024234779\n",
      "Epoch: 12 Train error: 0.19635881590152998\n",
      "Epoch: 13 Train error: 0.17696802037623807\n",
      "Epoch: 14 Train error: 0.17168301964664348\n",
      "Epoch: 15 Train error: 0.2088797131654661\n",
      "Epoch: 16 Train error: 0.16585996936084446\n",
      "Epoch: 17 Train error: 0.17192165306694562\n",
      "Epoch: 18 Train error: 0.19577050887191724\n",
      "Epoch: 19 Train error: 0.19754063259942145\n",
      "Epoch: 20 Train error: 0.1759273573652541\n",
      "Epoch: 21 Train error: 0.1787403828647965\n",
      "Epoch: 22 Train error: 0.18734659494906875\n",
      "Epoch: 23 Train error: 0.15679614783258003\n",
      "Epoch: 24 Train error: 0.1875041648977715\n",
      "Epoch: 25 Train error: 0.18580343228177665\n",
      "Epoch: 26 Train error: 0.1854597956709623\n",
      "Epoch: 27 Train error: 0.1766353809189415\n",
      "Epoch: 28 Train error: 0.2481121516436849\n",
      "Epoch: 29 Train error: 0.255967793486806\n",
      "Epoch: 30 Train error: 0.18373600950372732\n",
      "Epoch: 31 Train error: 0.2172678986476433\n",
      "Epoch: 32 Train error: 0.17628727121580848\n",
      "Epoch: 33 Train error: 0.17245529700587683\n",
      "Epoch: 34 Train error: 0.21247767977118695\n",
      "Epoch: 35 Train error: 0.1731383217999078\n",
      "Epoch: 36 Train error: 0.2015035076391932\n",
      "Epoch: 37 Train error: 0.27754709415115847\n",
      "Epoch: 38 Train error: 0.22387328356631303\n",
      "Epoch: 39 Train error: 0.17758327317016143\n",
      "Epoch: 40 Train error: 0.21760021384585224\n",
      "Epoch: 41 Train error: 0.17527994599613683\n",
      "Epoch: 42 Train error: 0.1739745259800065\n",
      "Epoch: 43 Train error: 0.21454325339132413\n",
      "Epoch: 44 Train error: 0.18068659238983112\n",
      "Epoch: 45 Train error: 0.16063465038587735\n",
      "Epoch: 46 Train error: 0.18561356151494\n",
      "Epoch: 47 Train error: 0.2552046037972322\n",
      "Epoch: 48 Train error: 0.16557221375477474\n",
      "Epoch: 49 Train error: 0.27513342826786197\n"
     ]
    }
   ],
   "source": [
    "train_errors = []\n",
    "for epoch in range(NUM_EPOCH):\n",
    "    net = AlexNet()\n",
    "    net.load_state_dict(torch.load(f\"alexnet/alexnet_epoch{epoch}.pt\"))\n",
    "    with torch.no_grad():\n",
    "        return_values = []\n",
    "        for i, data in enumerate(trainloader, 0):\n",
    "            inputs, labels = data\n",
    "            outputs = net(inputs)\n",
    "            loss = loss_function(outputs, labels)\n",
    "            return_values.append(\n",
    "                (labels.tolist(), outputs.flatten().tolist(), loss.tolist())\n",
    "            )\n",
    "    train_error = calculate_error(return_values)\n",
    "    train_errors.append(train_error)\n",
    "    print(f'Epoch: {epoch} Train error: {train_error}')\n"
   ]
  },
  {
   "cell_type": "code",
   "execution_count": 7,
   "metadata": {},
   "outputs": [
    {
     "name": "stdout",
     "output_type": "stream",
     "text": [
      "Epoch: 0 Test error: 0.2299447360893875\n",
      "Epoch: 1 Test error: 0.23426022598531296\n",
      "Epoch: 2 Test error: 0.20182869246272953\n",
      "Epoch: 3 Test error: 0.17557484567581336\n",
      "Epoch: 4 Test error: 0.1227016040187721\n",
      "Epoch: 5 Test error: 0.23369479123895517\n",
      "Epoch: 6 Test error: 0.14228294977100367\n",
      "Epoch: 7 Test error: 0.09055146135896523\n",
      "Epoch: 8 Test error: 0.19561244452966964\n",
      "Epoch: 9 Test error: 0.09891747683812942\n",
      "Epoch: 10 Test error: 0.18398321664317893\n",
      "Epoch: 11 Test error: 0.11575932216472916\n",
      "Epoch: 12 Test error: 0.16013309348449858\n",
      "Epoch: 13 Test error: 0.1937097729167273\n",
      "Epoch: 14 Test error: 0.08536263223991221\n",
      "Epoch: 15 Test error: 0.19190589353479326\n",
      "Epoch: 16 Test error: 0.14387277991583486\n",
      "Epoch: 17 Test error: 0.16398622492572548\n",
      "Epoch: 18 Test error: 0.14045006098766522\n",
      "Epoch: 19 Test error: 0.1727741910672571\n",
      "Epoch: 20 Test error: 0.14401043210653355\n",
      "Epoch: 21 Test error: 0.15564984766474396\n",
      "Epoch: 22 Test error: 0.16380416583441285\n",
      "Epoch: 23 Test error: 0.12455026906760502\n",
      "Epoch: 24 Test error: 0.13484946845622184\n",
      "Epoch: 25 Test error: 0.20002209326505618\n",
      "Epoch: 26 Test error: 0.14560696378379842\n",
      "Epoch: 27 Test error: 0.10945162281773603\n",
      "Epoch: 28 Test error: 0.15787684754561135\n",
      "Epoch: 29 Test error: 0.29579549553008083\n",
      "Epoch: 30 Test error: 0.13402770828068303\n",
      "Epoch: 31 Test error: 0.17847831479741713\n",
      "Epoch: 32 Test error: 0.14603779007399822\n",
      "Epoch: 33 Test error: 0.11624271108292755\n",
      "Epoch: 34 Test error: 0.1986546059802011\n",
      "Epoch: 35 Test error: 0.11124044201910066\n",
      "Epoch: 36 Test error: 0.08248698595677635\n",
      "Epoch: 37 Test error: 0.1955318579007902\n",
      "Epoch: 38 Test error: 0.11133468368957196\n",
      "Epoch: 39 Test error: 0.12527780290290416\n",
      "Epoch: 40 Test error: 0.14913542979364555\n",
      "Epoch: 41 Test error: 0.16557487682034042\n",
      "Epoch: 42 Test error: 0.17795968206559887\n",
      "Epoch: 43 Test error: 0.18423050877190095\n",
      "Epoch: 44 Test error: 0.20909132839595346\n",
      "Epoch: 45 Test error: 0.14430980282280959\n",
      "Epoch: 46 Test error: 0.15504985426878518\n",
      "Epoch: 47 Test error: 0.23394705768163512\n",
      "Epoch: 48 Test error: 0.15934501749114316\n",
      "Epoch: 49 Test error: 0.2865868641928638\n"
     ]
    }
   ],
   "source": [
    "test_errors = []\n",
    "for epoch in range(NUM_EPOCH):\n",
    "    net = AlexNet()\n",
    "    net.load_state_dict(torch.load(f\"alexnet/alexnet_epoch{epoch}.pt\"))\n",
    "    with torch.no_grad():\n",
    "        return_values = []\n",
    "        for i, data in enumerate(testloader, 0):\n",
    "            inputs, labels = data\n",
    "            outputs = net(inputs)\n",
    "            loss = loss_function(outputs, labels)\n",
    "            return_values.append(\n",
    "                (labels.tolist(), outputs.flatten().tolist(), loss.tolist())\n",
    "            )\n",
    "    test_error = calculate_error(return_values)\n",
    "    test_errors.append(test_error)\n",
    "    print(f'Epoch: {epoch} Test error: {test_error}')\n"
   ]
  }
 ],
 "metadata": {
  "interpreter": {
   "hash": "ac59ebe37160ed0dfa835113d9b8498d9f09ceb179beaac4002f036b9467c963"
  },
  "kernelspec": {
   "display_name": "Python 3.9.4 64-bit",
   "name": "python3"
  },
  "language_info": {
   "codemirror_mode": {
    "name": "ipython",
    "version": 3
   },
   "file_extension": ".py",
   "mimetype": "text/x-python",
   "name": "python",
   "nbconvert_exporter": "python",
   "pygments_lexer": "ipython3",
   "version": "3.9.4"
  },
  "orig_nbformat": 4
 },
 "nbformat": 4,
 "nbformat_minor": 2
}
